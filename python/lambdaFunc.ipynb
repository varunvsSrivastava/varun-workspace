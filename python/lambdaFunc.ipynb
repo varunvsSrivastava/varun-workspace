{
 "cells": [
  {
   "cell_type": "code",
   "execution_count": 4,
   "id": "6271a30f",
   "metadata": {},
   "outputs": [
    {
     "name": "stdout",
     "output_type": "stream",
     "text": [
      "15\n"
     ]
    }
   ],
   "source": [
    "x=lambda a:a+10\n",
    "print(x(5))\n"
   ]
  },
  {
   "cell_type": "code",
   "execution_count": 6,
   "id": "bd82e079",
   "metadata": {},
   "outputs": [
    {
     "name": "stdout",
     "output_type": "stream",
     "text": [
      "200\n"
     ]
    }
   ],
   "source": [
    "x=lambda a,b:a*b\n",
    "print(x(10,20))"
   ]
  },
  {
   "cell_type": "code",
   "execution_count": 7,
   "id": "f22bbca6",
   "metadata": {},
   "outputs": [
    {
     "name": "stdout",
     "output_type": "stream",
     "text": [
      "60\n"
     ]
    }
   ],
   "source": [
    "x=lambda a,b,c:a+b+c\n",
    "print(x(10,20,30))"
   ]
  },
  {
   "cell_type": "code",
   "execution_count": 9,
   "id": "f1c120c2",
   "metadata": {},
   "outputs": [
    {
     "name": "stdout",
     "output_type": "stream",
     "text": [
      "22\n"
     ]
    }
   ],
   "source": [
    "def my_func(num):\n",
    "    return lambda a:a*num\n",
    "mydoubler=my_func(2)\n",
    "print(mydoubler(11))"
   ]
  },
  {
   "cell_type": "code",
   "execution_count": 11,
   "id": "2c895518",
   "metadata": {},
   "outputs": [
    {
     "name": "stdout",
     "output_type": "stream",
     "text": [
      "[2, 4, 6, 8, 10, 12, 66]\n"
     ]
    }
   ],
   "source": [
    "my_list=[1,2,3,4,5,6,33]\n",
    "new_list=list(map(lambda x:x*2,my_list))\n",
    "print(new_list)"
   ]
  },
  {
   "cell_type": "code",
   "execution_count": null,
   "id": "6b4e734d",
   "metadata": {},
   "outputs": [],
   "source": []
  }
 ],
 "metadata": {
  "kernelspec": {
   "display_name": "Python 3 (ipykernel)",
   "language": "python",
   "name": "python3"
  },
  "language_info": {
   "codemirror_mode": {
    "name": "ipython",
    "version": 3
   },
   "file_extension": ".py",
   "mimetype": "text/x-python",
   "name": "python",
   "nbconvert_exporter": "python",
   "pygments_lexer": "ipython3",
   "version": "3.12.3"
  }
 },
 "nbformat": 4,
 "nbformat_minor": 5
}
