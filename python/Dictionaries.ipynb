{
 "cells": [
  {
   "cell_type": "code",
   "execution_count": 6,
   "id": "6a818b4a",
   "metadata": {},
   "outputs": [
    {
     "name": "stdout",
     "output_type": "stream",
     "text": [
      "{'dept': 'MCA', 'Year_adm': '2022', 'Sem': ['first', 'second', 'third', 'fourth']}\n"
     ]
    }
   ],
   "source": [
    "thisdict={\n",
    "    \"dept\":\"MCA\",\n",
    "    \"Year_adm\":\"2022\",\n",
    "    \"Sem\":[\"first\",\"second\",\"third\",\"fourth\"]\n",
    "}\n",
    "print(thisdict)"
   ]
  },
  {
   "cell_type": "code",
   "execution_count": 7,
   "id": "40d893dd",
   "metadata": {},
   "outputs": [
    {
     "name": "stdout",
     "output_type": "stream",
     "text": [
      "[1, 2, 3, 4, 5]\n"
     ]
    }
   ],
   "source": [
    "thislist=[1,2,3,4,5]\n",
    "print(thislist)"
   ]
  },
  {
   "cell_type": "code",
   "execution_count": 8,
   "id": "d325c5ef",
   "metadata": {},
   "outputs": [
    {
     "name": "stdout",
     "output_type": "stream",
     "text": [
      "['first', 'second', 'third', 'fourth']\n"
     ]
    }
   ],
   "source": [
    "print(thisdict[\"Sem\"])\n"
   ]
  },
  {
   "cell_type": "code",
   "execution_count": 9,
   "id": "93a662a5",
   "metadata": {},
   "outputs": [
    {
     "name": "stdout",
     "output_type": "stream",
     "text": [
      "[3, 4, 5]\n"
     ]
    }
   ],
   "source": [
    "print(thislist[2:])"
   ]
  },
  {
   "cell_type": "code",
   "execution_count": 10,
   "id": "4503209a",
   "metadata": {},
   "outputs": [
    {
     "name": "stdout",
     "output_type": "stream",
     "text": [
      "[1, 2, 3, 4]\n"
     ]
    }
   ],
   "source": [
    "print(thislist[:4])"
   ]
  },
  {
   "cell_type": "code",
   "execution_count": 11,
   "id": "e18c1555",
   "metadata": {},
   "outputs": [
    {
     "name": "stdout",
     "output_type": "stream",
     "text": [
      "[3, 4]\n"
     ]
    }
   ],
   "source": [
    "print(thislist[2:4])"
   ]
  },
  {
   "cell_type": "code",
   "execution_count": 12,
   "id": "f5f5925d",
   "metadata": {},
   "outputs": [],
   "source": [
    "a=[]"
   ]
  },
  {
   "cell_type": "code",
   "execution_count": 13,
   "id": "775bd4e8",
   "metadata": {},
   "outputs": [],
   "source": [
    "a.append(10)"
   ]
  },
  {
   "cell_type": "code",
   "execution_count": 14,
   "id": "7697b5fe",
   "metadata": {},
   "outputs": [
    {
     "name": "stdout",
     "output_type": "stream",
     "text": [
      "[10]\n"
     ]
    }
   ],
   "source": [
    "print(a)"
   ]
  },
  {
   "cell_type": "code",
   "execution_count": 15,
   "id": "bdb88c6d",
   "metadata": {},
   "outputs": [
    {
     "name": "stdout",
     "output_type": "stream",
     "text": [
      "After apppending(10): [10]\n"
     ]
    }
   ],
   "source": [
    "print(\"After apppending(10):\",a)"
   ]
  },
  {
   "cell_type": "code",
   "execution_count": 16,
   "id": "9e4392d7",
   "metadata": {},
   "outputs": [],
   "source": [
    "a.insert(0,5)"
   ]
  },
  {
   "cell_type": "code",
   "execution_count": 17,
   "id": "9cd482bb",
   "metadata": {},
   "outputs": [
    {
     "name": "stdout",
     "output_type": "stream",
     "text": [
      "After inserting(0,5): [5, 10]\n"
     ]
    }
   ],
   "source": [
    "print(\"After inserting(0,5):\",a)"
   ]
  },
  {
   "cell_type": "code",
   "execution_count": 18,
   "id": "981c09c6",
   "metadata": {},
   "outputs": [],
   "source": [
    "a.extend([15,20,25])"
   ]
  },
  {
   "cell_type": "code",
   "execution_count": 19,
   "id": "da25f80d",
   "metadata": {},
   "outputs": [
    {
     "name": "stdout",
     "output_type": "stream",
     "text": [
      "After expanding([15,20,25]): [5, 10, 15, 20, 25]\n"
     ]
    }
   ],
   "source": [
    "print(\"After expanding([15,20,25]):\",a)"
   ]
  },
  {
   "cell_type": "code",
   "execution_count": 20,
   "id": "4f63a182",
   "metadata": {},
   "outputs": [
    {
     "name": "stdout",
     "output_type": "stream",
     "text": [
      "<class 'list'>\n"
     ]
    }
   ],
   "source": [
    "print(type(a))"
   ]
  },
  {
   "cell_type": "code",
   "execution_count": 21,
   "id": "f4185b74",
   "metadata": {},
   "outputs": [
    {
     "name": "stdout",
     "output_type": "stream",
     "text": [
      "<class 'list'>\n"
     ]
    }
   ],
   "source": [
    "print(type(thislist))"
   ]
  },
  {
   "cell_type": "code",
   "execution_count": 22,
   "id": "85de3f42",
   "metadata": {},
   "outputs": [
    {
     "name": "stdout",
     "output_type": "stream",
     "text": [
      "<class 'dict'>\n"
     ]
    }
   ],
   "source": [
    "print(type(thisdict))"
   ]
  },
  {
   "cell_type": "code",
   "execution_count": 23,
   "id": "4cbd1108",
   "metadata": {},
   "outputs": [
    {
     "name": "stdout",
     "output_type": "stream",
     "text": [
      "[5, 10, 15, 20, 25]\n"
     ]
    }
   ],
   "source": [
    "print(a)\n"
   ]
  },
  {
   "cell_type": "code",
   "execution_count": 24,
   "id": "12d2b83b",
   "metadata": {},
   "outputs": [
    {
     "name": "stdout",
     "output_type": "stream",
     "text": [
      "[5, 30, 15, 20, 25]\n"
     ]
    }
   ],
   "source": [
    "a[1]=30\n",
    "print(a)"
   ]
  },
  {
   "cell_type": "code",
   "execution_count": 25,
   "id": "ad5ffd01",
   "metadata": {},
   "outputs": [
    {
     "name": "stdout",
     "output_type": "stream",
     "text": [
      "[5, 15, 20, 25]\n"
     ]
    }
   ],
   "source": [
    "a.remove(30)\n",
    "print(a)"
   ]
  },
  {
   "cell_type": "code",
   "execution_count": 26,
   "id": "ea3b0462",
   "metadata": {},
   "outputs": [
    {
     "name": "stdout",
     "output_type": "stream",
     "text": [
      "[5, 15, 20]\n"
     ]
    }
   ],
   "source": [
    "a.pop()\n",
    "print(a)"
   ]
  },
  {
   "cell_type": "code",
   "execution_count": 27,
   "id": "4df926c5",
   "metadata": {},
   "outputs": [
    {
     "name": "stdout",
     "output_type": "stream",
     "text": [
      "[15, 20]\n"
     ]
    }
   ],
   "source": [
    "a.pop(0)\n",
    "print(a)"
   ]
  },
  {
   "cell_type": "code",
   "execution_count": 28,
   "id": "1630f17a",
   "metadata": {},
   "outputs": [
    {
     "name": "stdout",
     "output_type": "stream",
     "text": [
      "[15]\n"
     ]
    }
   ],
   "source": [
    "del a[1]\n",
    "print(a)"
   ]
  },
  {
   "cell_type": "code",
   "execution_count": 29,
   "id": "c6618fb9",
   "metadata": {},
   "outputs": [
    {
     "name": "stdout",
     "output_type": "stream",
     "text": [
      "[15, [20, 25, 30, 35]]\n"
     ]
    }
   ],
   "source": [
    "a.insert(1,[20,25,30,35])\n",
    "print(a)"
   ]
  },
  {
   "cell_type": "code",
   "execution_count": 30,
   "id": "4d4b2d8f",
   "metadata": {},
   "outputs": [
    {
     "name": "stdout",
     "output_type": "stream",
     "text": [
      "<class 'list'>\n"
     ]
    }
   ],
   "source": [
    "print(type(a))"
   ]
  },
  {
   "cell_type": "code",
   "execution_count": 31,
   "id": "d1fdba6f",
   "metadata": {},
   "outputs": [
    {
     "name": "stdout",
     "output_type": "stream",
     "text": [
      "[15]\n"
     ]
    }
   ],
   "source": [
    "del a[1]\n",
    "print(a)"
   ]
  },
  {
   "cell_type": "code",
   "execution_count": 32,
   "id": "61d722c8",
   "metadata": {},
   "outputs": [
    {
     "name": "stdout",
     "output_type": "stream",
     "text": [
      "[15, 20, 25, 30, 35]\n"
     ]
    }
   ],
   "source": [
    "a.extend([20,25,30,35])\n",
    "print(a)"
   ]
  },
  {
   "cell_type": "code",
   "execution_count": 33,
   "id": "9609f1b2",
   "metadata": {},
   "outputs": [
    {
     "name": "stdout",
     "output_type": "stream",
     "text": [
      "[15, 20, 25, 30, 35]\n",
      "[15, 20, 25, 30, 35]\n",
      "[15, 20, 25, 30, 35]\n",
      "[15, 20, 25, 30, 35]\n",
      "[15, 20, 25, 30, 35]\n"
     ]
    }
   ],
   "source": [
    "for item in a:\n",
    "    print(a)"
   ]
  },
  {
   "cell_type": "code",
   "execution_count": 34,
   "id": "710ea197",
   "metadata": {},
   "outputs": [
    {
     "name": "stdout",
     "output_type": "stream",
     "text": [
      "15\n",
      "20\n",
      "25\n",
      "30\n",
      "35\n"
     ]
    }
   ],
   "source": [
    "for item in a:\n",
    "    print(item)"
   ]
  },
  {
   "cell_type": "code",
   "execution_count": 35,
   "id": "7d89afdd",
   "metadata": {},
   "outputs": [
    {
     "name": "stdout",
     "output_type": "stream",
     "text": [
      "{}\n"
     ]
    }
   ],
   "source": [
    "thisdict.clear()\n",
    "print(thisdict)"
   ]
  },
  {
   "cell_type": "code",
   "execution_count": 36,
   "id": "feed0ad0",
   "metadata": {},
   "outputs": [
    {
     "name": "stdout",
     "output_type": "stream",
     "text": [
      "{'name': 'ABC', 'age': 36, 'country': 'INDIA'}\n"
     ]
    }
   ],
   "source": [
    "thisdict=dict(name=\"ABC\",age=36,country=\"INDIA\")\n",
    "print(thisdict)"
   ]
  },
  {
   "cell_type": "code",
   "execution_count": 37,
   "id": "b2e07a9a",
   "metadata": {},
   "outputs": [
    {
     "name": "stdout",
     "output_type": "stream",
     "text": [
      "<built-in method keys of dict object at 0x74aac806ea80>\n"
     ]
    }
   ],
   "source": [
    "print(thisdict.keys)"
   ]
  },
  {
   "cell_type": "code",
   "execution_count": 38,
   "id": "c8db7cbd",
   "metadata": {},
   "outputs": [
    {
     "name": "stdout",
     "output_type": "stream",
     "text": [
      "3\n"
     ]
    }
   ],
   "source": [
    "print(len(thisdict))"
   ]
  },
  {
   "cell_type": "code",
   "execution_count": 39,
   "id": "a0de09b0",
   "metadata": {},
   "outputs": [
    {
     "name": "stdout",
     "output_type": "stream",
     "text": [
      "<class 'dict'>\n"
     ]
    }
   ],
   "source": [
    "print(type(thisdict))"
   ]
  },
  {
   "cell_type": "code",
   "execution_count": 40,
   "id": "1823e746",
   "metadata": {},
   "outputs": [
    {
     "name": "stdout",
     "output_type": "stream",
     "text": [
      "dict_values(['ABC', 36, 'INDIA'])\n"
     ]
    }
   ],
   "source": [
    "x=thisdict.values()\n",
    "print(x)"
   ]
  },
  {
   "cell_type": "code",
   "execution_count": 41,
   "id": "0ad83a50",
   "metadata": {},
   "outputs": [
    {
     "name": "stdout",
     "output_type": "stream",
     "text": [
      "dict_keys(['name', 'age', 'country'])\n"
     ]
    }
   ],
   "source": [
    "x=thisdict.keys()\n",
    "print(x)"
   ]
  },
  {
   "cell_type": "code",
   "execution_count": 42,
   "id": "02f9829a",
   "metadata": {},
   "outputs": [
    {
     "name": "stdout",
     "output_type": "stream",
     "text": [
      "<class 'dict_keys'>\n"
     ]
    }
   ],
   "source": [
    "print(type(x))"
   ]
  },
  {
   "cell_type": "code",
   "execution_count": 43,
   "id": "b1e289f4",
   "metadata": {},
   "outputs": [
    {
     "name": "stdout",
     "output_type": "stream",
     "text": [
      "dict_items([('name', 'ABC'), ('age', 36), ('country', 'INDIA')])\n"
     ]
    }
   ],
   "source": [
    "x=thisdict.items()\n",
    "print(x)"
   ]
  },
  {
   "cell_type": "code",
   "execution_count": 45,
   "id": "948a9f27",
   "metadata": {},
   "outputs": [
    {
     "name": "stdout",
     "output_type": "stream",
     "text": [
      "not present\n"
     ]
    }
   ],
   "source": [
    "if \"dept\" in thisdict:\n",
    "    print(\"present\")\n",
    "else:\n",
    "    print(\"not present\")"
   ]
  },
  {
   "cell_type": "code",
   "execution_count": 46,
   "id": "8471a2b8",
   "metadata": {},
   "outputs": [
    {
     "name": "stdout",
     "output_type": "stream",
     "text": [
      "dict_items([('name', 'ABC'), ('age', 36), ('country', 'INDIA')])\n"
     ]
    }
   ],
   "source": [
    "print(x)"
   ]
  },
  {
   "cell_type": "code",
   "execution_count": 47,
   "id": "3e82f2e4",
   "metadata": {},
   "outputs": [
    {
     "name": "stdout",
     "output_type": "stream",
     "text": [
      "[1, 2, 3, 4, 5]\n"
     ]
    }
   ],
   "source": [
    "print(thislist)"
   ]
  },
  {
   "cell_type": "code",
   "execution_count": 48,
   "id": "fcdf9ed9",
   "metadata": {},
   "outputs": [
    {
     "name": "stdout",
     "output_type": "stream",
     "text": [
      "{'name': 'ABC', 'age': 36, 'country': 'INDIA'}\n"
     ]
    }
   ],
   "source": [
    "print(thisdict)"
   ]
  },
  {
   "cell_type": "code",
   "execution_count": 49,
   "id": "51a63d1e",
   "metadata": {},
   "outputs": [
    {
     "name": "stdout",
     "output_type": "stream",
     "text": [
      "{}\n"
     ]
    }
   ],
   "source": [
    "thisdict.clear()\n",
    "print(thisdict)"
   ]
  },
  {
   "cell_type": "code",
   "execution_count": 50,
   "id": "a494d72b",
   "metadata": {},
   "outputs": [
    {
     "name": "stdout",
     "output_type": "stream",
     "text": [
      "{'fname': 'joe', 'lname': 'fonebook', 'age': 51, 'spouse': 'eden', 'children': ['ralph', 'betty', 'joey'], 'pets': {'dog': 'fido', 'cat': 'dox'}}\n"
     ]
    }
   ],
   "source": [
    "type(thisdict)\n",
    "thisdict['fname']='joe'\n",
    "thisdict['lname']='fonebook'\n",
    "thisdict['age']=51\n",
    "thisdict['spouse']='eden'\n",
    "thisdict['children']=['ralph','betty','joey']\n",
    "thisdict['pets']={'dog':'fido','cat':'dox'}\n",
    "print(thisdict)"
   ]
  },
  {
   "cell_type": "code",
   "execution_count": 51,
   "id": "1c957ebf",
   "metadata": {},
   "outputs": [
    {
     "name": "stdout",
     "output_type": "stream",
     "text": [
      "dict_values(['joe', 'fonebook', 51, 'eden', ['ralph', 'betty', 'joey'], {'dog': 'fido', 'cat': 'dox'}])\n"
     ]
    }
   ],
   "source": [
    "y=thisdict.values()\n",
    "print(y)"
   ]
  },
  {
   "cell_type": "code",
   "execution_count": 52,
   "id": "90414a01",
   "metadata": {},
   "outputs": [
    {
     "name": "stdout",
     "output_type": "stream",
     "text": [
      "<class 'dict_values'>\n"
     ]
    }
   ],
   "source": [
    "print(type(y))"
   ]
  },
  {
   "cell_type": "code",
   "execution_count": 53,
   "id": "241c0af6",
   "metadata": {},
   "outputs": [
    {
     "name": "stdout",
     "output_type": "stream",
     "text": [
      "<class 'dict'>\n"
     ]
    }
   ],
   "source": [
    "print(type(thisdict))"
   ]
  },
  {
   "cell_type": "code",
   "execution_count": 54,
   "id": "1d1852a0",
   "metadata": {},
   "outputs": [
    {
     "name": "stdout",
     "output_type": "stream",
     "text": [
      "6\n"
     ]
    }
   ],
   "source": [
    "print(len(thisdict))"
   ]
  },
  {
   "cell_type": "code",
   "execution_count": 57,
   "id": "026fc7ca",
   "metadata": {},
   "outputs": [
    {
     "name": "stdout",
     "output_type": "stream",
     "text": [
      "6\n"
     ]
    }
   ],
   "source": [
    "print(len(thisdict))"
   ]
  },
  {
   "cell_type": "code",
   "execution_count": 58,
   "id": "c47bfcb3",
   "metadata": {},
   "outputs": [
    {
     "name": "stdout",
     "output_type": "stream",
     "text": [
      "{'fname': 'joe', 'lname': 'fonebook', 'age': 51, 'spouse': 'eden', 'children': ['ralph', 'betty', 'joey'], 'pets': {'dog': 'fido', 'cat': 'dox'}, 'pets[0]': 'eva'}\n"
     ]
    }
   ],
   "source": [
    "thisdict.update({'pets[0]':'eva'})\n",
    "print(thisdict)"
   ]
  },
  {
   "cell_type": "code",
   "execution_count": 59,
   "id": "ab8081d8",
   "metadata": {},
   "outputs": [
    {
     "name": "stdout",
     "output_type": "stream",
     "text": [
      "7\n"
     ]
    }
   ],
   "source": [
    "print(len(thisdict))"
   ]
  },
  {
   "cell_type": "code",
   "execution_count": 61,
   "id": "d002eda7",
   "metadata": {},
   "outputs": [
    {
     "name": "stdout",
     "output_type": "stream",
     "text": [
      "{'dog': 'fido', 'cat': 'dox'}\n"
     ]
    }
   ],
   "source": [
    "print(thisdict.pop(\"pets\"))"
   ]
  },
  {
   "cell_type": "code",
   "execution_count": 62,
   "id": "ce32496b",
   "metadata": {},
   "outputs": [
    {
     "name": "stdout",
     "output_type": "stream",
     "text": [
      "{'fname': 'joe', 'lname': 'fonebook', 'age': 51, 'spouse': 'eden', 'children': ['ralph', 'betty', 'joey'], 'pets[0]': 'eva'}\n"
     ]
    }
   ],
   "source": [
    "print(thisdict)"
   ]
  },
  {
   "cell_type": "code",
   "execution_count": 64,
   "id": "e3d235d2",
   "metadata": {},
   "outputs": [
    {
     "name": "stdout",
     "output_type": "stream",
     "text": [
      "('pets[0]', 'eva')\n"
     ]
    }
   ],
   "source": [
    "print(thisdict.popitem())"
   ]
  },
  {
   "cell_type": "code",
   "execution_count": 65,
   "id": "1eba334e",
   "metadata": {},
   "outputs": [
    {
     "name": "stdout",
     "output_type": "stream",
     "text": [
      "{'fname': 'joe', 'lname': 'fonebook', 'age': 51, 'spouse': 'eden', 'children': ['ralph', 'betty', 'joey']}\n"
     ]
    }
   ],
   "source": [
    "print(thisdict)"
   ]
  },
  {
   "cell_type": "code",
   "execution_count": 66,
   "id": "f6f87d44",
   "metadata": {},
   "outputs": [
    {
     "name": "stdout",
     "output_type": "stream",
     "text": [
      "5\n"
     ]
    }
   ],
   "source": [
    "print(len(thisdict))"
   ]
  },
  {
   "cell_type": "code",
   "execution_count": 73,
   "id": "d085d1cf",
   "metadata": {},
   "outputs": [
    {
     "name": "stdout",
     "output_type": "stream",
     "text": [
      "dict_keys(['fname', 'lname', 'age', 'spouse', 'children'])\n",
      "{'fname': 'joe', 'lname': 'fonebook', 'age': 51, 'spouse': 'eden', 'children': ['ralph', 'betty', 'joey'], 'pets': 'dog'}\n"
     ]
    }
   ],
   "source": [
    "z=thisdict.keys()\n",
    "print(z)\n",
    "thisdict['pets']='dog'\n",
    "print(thisdict)"
   ]
  },
  {
   "cell_type": "code",
   "execution_count": 74,
   "id": "82004515",
   "metadata": {},
   "outputs": [
    {
     "name": "stdout",
     "output_type": "stream",
     "text": [
      "{'fname': 'joe', 'lname': 'fonebook', 'age': 51, 'spouse': 'eden', 'children': ['ralph', 'betty', 'joey']}\n",
      "5\n"
     ]
    }
   ],
   "source": [
    "thisdict.popitem()\n",
    "print(thisdict)\n",
    "print(len(thisdict))"
   ]
  },
  {
   "cell_type": "code",
   "execution_count": 75,
   "id": "e45f85be",
   "metadata": {},
   "outputs": [
    {
     "name": "stdout",
     "output_type": "stream",
     "text": [
      "{'fname': 'joe', 'lname': 'fonebook', 'age': 51, 'spouse': 'eden', 'children': ['ralph', 'betty', 'joey'], 'pet': {'dog': 'eva', 'cat': 'sox'}}\n"
     ]
    }
   ],
   "source": [
    "thisdict['pet']={'dog':'eva','cat':'sox'}\n",
    "print(thisdict)"
   ]
  },
  {
   "cell_type": "code",
   "execution_count": 77,
   "id": "b7634307",
   "metadata": {},
   "outputs": [
    {
     "name": "stdout",
     "output_type": "stream",
     "text": [
      "dict_items([('fname', 'joe'), ('lname', 'fonebook'), ('age', 51), ('spouse', 'eden'), ('children', ['ralph', 'betty', 'joey']), ('pet', {'dog': 'eva', 'cat': 'sox'})])\n"
     ]
    }
   ],
   "source": [
    "z=thisdict.items()\n",
    "print(z)"
   ]
  },
  {
   "cell_type": "code",
   "execution_count": 81,
   "id": "81a29607",
   "metadata": {},
   "outputs": [
    {
     "name": "stdout",
     "output_type": "stream",
     "text": [
      "{'fname': 'joe', 'lname': 'fonebook', 'age': 51, 'spouse': 'eden', 'children': ['ralph', 'betty', 'joey'], 'pet': {'dog': 'eva', 'cat': 'sox'}, False: 'fido'}\n"
     ]
    }
   ],
   "source": [
    "thisdict.update({\"pet\"==\"dog\":\"fido\"})\n",
    "print(thisdict)"
   ]
  },
  {
   "cell_type": "code",
   "execution_count": 83,
   "id": "739ff39b",
   "metadata": {},
   "outputs": [
    {
     "name": "stdout",
     "output_type": "stream",
     "text": [
      "{'fname': 'joe', 'lname': 'fonebook', 'age': 51, 'spouse': 'eden', 'children': ['ralph', 'betty', 'joey'], 'pet': {'dog': 'eva', 'cat': 'sox'}}\n"
     ]
    }
   ],
   "source": [
    "thisdict.popitem()\n",
    "print(thisdict)"
   ]
  },
  {
   "cell_type": "code",
   "execution_count": 90,
   "id": "40d9afc7",
   "metadata": {},
   "outputs": [
    {
     "name": "stdout",
     "output_type": "stream",
     "text": [
      "{'fname': 'joe', 'lname': 'fonebook', 'age': 51, 'children': ['ralph', 'betty', 'joey'], 'pet': {'dog': 'eva', 'cat': 'sox'}}\n"
     ]
    }
   ],
   "source": [
    "thisdict.pop('spouse')\n",
    "print(thisdict)"
   ]
  },
  {
   "cell_type": "code",
   "execution_count": 91,
   "id": "71277088",
   "metadata": {},
   "outputs": [
    {
     "name": "stdout",
     "output_type": "stream",
     "text": [
      "{'fname': 'joe', 'lname': 'fonebook', 'age': 51, 'pet': {'dog': 'eva', 'cat': 'sox'}}\n"
     ]
    }
   ],
   "source": [
    "del thisdict[\"children\"]\n",
    "print(thisdict)"
   ]
  },
  {
   "cell_type": "code",
   "execution_count": 92,
   "id": "42cd0d25",
   "metadata": {},
   "outputs": [
    {
     "name": "stdout",
     "output_type": "stream",
     "text": [
      "{}\n"
     ]
    }
   ],
   "source": [
    "thisdict.clear()\n",
    "print(thisdict)"
   ]
  },
  {
   "cell_type": "code",
   "execution_count": 95,
   "id": "d9d01321",
   "metadata": {},
   "outputs": [
    {
     "ename": "NameError",
     "evalue": "name 'thisdict' is not defined",
     "output_type": "error",
     "traceback": [
      "\u001b[0;31m---------------------------------------------------------------------------\u001b[0m",
      "\u001b[0;31mNameError\u001b[0m                                 Traceback (most recent call last)",
      "Cell \u001b[0;32mIn[95], line 1\u001b[0m\n\u001b[0;32m----> 1\u001b[0m \u001b[38;5;28;01mdel\u001b[39;00m \u001b[43mthisdict\u001b[49m\n",
      "\u001b[0;31mNameError\u001b[0m: name 'thisdict' is not defined"
     ]
    }
   ],
   "source": [
    "del thisdict\n"
   ]
  },
  {
   "cell_type": "code",
   "execution_count": 96,
   "id": "fe0196bb",
   "metadata": {},
   "outputs": [
    {
     "name": "stdout",
     "output_type": "stream",
     "text": [
      "{}\n"
     ]
    }
   ],
   "source": [
    "thisdict={}\n",
    "print(thisdict)"
   ]
  },
  {
   "cell_type": "code",
   "execution_count": null,
   "id": "3b8e28df",
   "metadata": {},
   "outputs": [],
   "source": []
  }
 ],
 "metadata": {
  "kernelspec": {
   "display_name": "Python 3 (ipykernel)",
   "language": "python",
   "name": "python3"
  },
  "language_info": {
   "codemirror_mode": {
    "name": "ipython",
    "version": 3
   },
   "file_extension": ".py",
   "mimetype": "text/x-python",
   "name": "python",
   "nbconvert_exporter": "python",
   "pygments_lexer": "ipython3",
   "version": "3.12.3"
  }
 },
 "nbformat": 4,
 "nbformat_minor": 5
}
