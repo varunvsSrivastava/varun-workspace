{
 "cells": [
  {
   "cell_type": "code",
   "execution_count": 28,
   "id": "b260eb20",
   "metadata": {},
   "outputs": [],
   "source": [
    "def add():\n",
    "    a=20\n",
    "    b=30\n",
    "    sum=a+b\n",
    "    print(sum)"
   ]
  },
  {
   "cell_type": "code",
   "execution_count": 18,
   "id": "d47ff2dc",
   "metadata": {},
   "outputs": [
    {
     "name": "stdout",
     "output_type": "stream",
     "text": [
      "50\n"
     ]
    }
   ],
   "source": [
    "def add():\n",
    "    a=20\n",
    "    b=30\n",
    "    sum=a+b\n",
    "    return sum\n",
    "res=add()\n",
    "print(res)"
   ]
  },
  {
   "cell_type": "code",
   "execution_count": 19,
   "id": "16dd1df8",
   "metadata": {},
   "outputs": [
    {
     "name": "stdout",
     "output_type": "stream",
     "text": [
      "30\n"
     ]
    }
   ],
   "source": [
    "def add(num1,num2):\n",
    "    sum=num1+num2\n",
    "    return sum\n",
    "a=10\n",
    "b=20\n",
    "res=add(a,b)\n",
    "print(res)"
   ]
  },
  {
   "cell_type": "code",
   "execution_count": 29,
   "id": "e331a8bc",
   "metadata": {},
   "outputs": [
    {
     "name": "stdout",
     "output_type": "stream",
     "text": [
      "enter the number12\n"
     ]
    }
   ],
   "source": [
    "i=input(\"enter the number\")"
   ]
  },
  {
   "cell_type": "code",
   "execution_count": 35,
   "id": "b47be845",
   "metadata": {},
   "outputs": [
    {
     "name": "stdout",
     "output_type": "stream",
     "text": [
      "enter the number: 11\n",
      "121\n"
     ]
    }
   ],
   "source": [
    "def square(num):\n",
    "    cal=num*num\n",
    "    return cal\n",
    "a=input(\"enter the number: \")\n",
    "res=square(int(a))\n",
    "print(res)"
   ]
  },
  {
   "cell_type": "code",
   "execution_count": 42,
   "id": "87a20208",
   "metadata": {},
   "outputs": [
    {
     "name": "stdout",
     "output_type": "stream",
     "text": [
      "This department is MBA\n"
     ]
    }
   ],
   "source": [
    "def my_func(dept3,dept1,dept2):\n",
    "    print(\"This department is\",dept2)\n",
    "my_func(dept1=\"MCA\",dept2=\"MBA\",dept3=\"Mtech\")"
   ]
  },
  {
   "cell_type": "code",
   "execution_count": 43,
   "id": "5a1849d1",
   "metadata": {},
   "outputs": [
    {
     "name": "stdout",
     "output_type": "stream",
     "text": [
      "I am from Sweden\n",
      "I am from India\n",
      "I am from norway\n",
      "I am from Brazil\n"
     ]
    }
   ],
   "source": [
    "def my_func(country=\"norway\"):\n",
    "    print(\"I am from\",country)\n",
    "my_func(\"Sweden\")\n",
    "my_func(\"India\")\n",
    "my_func()\n",
    "my_func(\"Brazil\")"
   ]
  },
  {
   "cell_type": "code",
   "execution_count": 44,
   "id": "c811f683",
   "metadata": {},
   "outputs": [
    {
     "name": "stdout",
     "output_type": "stream",
     "text": [
      "His last name is ABC\n"
     ]
    }
   ],
   "source": [
    "def my_func(**person):\n",
    "    print(\"His last name is\",person[\"lname\"])\n",
    "my_func(fname=\"XYZ\",lname=\"ABC\")"
   ]
  },
  {
   "cell_type": "code",
   "execution_count": 45,
   "id": "f8f3040f",
   "metadata": {},
   "outputs": [
    {
     "name": "stdout",
     "output_type": "stream",
     "text": [
      "mca\n",
      "mba\n",
      "mtech\n"
     ]
    }
   ],
   "source": [
    "def my_func(Dept):\n",
    "    for x in Dept:\n",
    "        print(x)\n",
    "Dept=[\"mca\",\"mba\",\"mtech\"]\n",
    "my_func(Dept)"
   ]
  },
  {
   "cell_type": "code",
   "execution_count": 46,
   "id": "97e7a55e",
   "metadata": {},
   "outputs": [
    {
     "name": "stdout",
     "output_type": "stream",
     "text": [
      "The Department is mtech\n"
     ]
    }
   ],
   "source": [
    "def my_func(*Dept):\n",
    "    print(\"The Department is\",Dept[2])\n",
    "my_func(\"mca\",\"mba\",\"mtech\")"
   ]
  },
  {
   "cell_type": "code",
   "execution_count": null,
   "id": "7b608bb7",
   "metadata": {},
   "outputs": [],
   "source": []
  }
 ],
 "metadata": {
  "kernelspec": {
   "display_name": "Python 3 (ipykernel)",
   "language": "python",
   "name": "python3"
  },
  "language_info": {
   "codemirror_mode": {
    "name": "ipython",
    "version": 3
   },
   "file_extension": ".py",
   "mimetype": "text/x-python",
   "name": "python",
   "nbconvert_exporter": "python",
   "pygments_lexer": "ipython3",
   "version": "3.12.3"
  }
 },
 "nbformat": 4,
 "nbformat_minor": 5
}
